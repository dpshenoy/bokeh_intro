{
 "cells": [
  {
   "cell_type": "markdown",
   "metadata": {
    "heading_collapsed": true
   },
   "source": [
    "## Sum of Square Errors Illustration\n",
    "This is an example of using **`ipywidgets`** in conjuction with **`bokeh`**.  The plot illustrates interactively fitting a curve to some data points by minimizing the sum of the squared errors.  Of course, there are better ways to fit a function to a bunch of points than as done here.  The point of this notebook is to illustrate using widgets and bokeh, it is not how to best fit a curve to data points."
   ]
  },
  {
   "cell_type": "markdown",
   "metadata": {
    "heading_collapsed": true,
    "hidden": true
   },
   "source": [
    "#### Import modules"
   ]
  },
  {
   "cell_type": "code",
   "execution_count": null,
   "metadata": {
    "hidden": true
   },
   "outputs": [],
   "source": [
    "import numpy as np\n",
    "from ipywidgets import interact, widgets\n",
    "from bokeh.plotting import figure\n",
    "from bokeh.io import show, output_notebook, push_notebook\n",
    "\n",
    "output_notebook()"
   ]
  },
  {
   "cell_type": "markdown",
   "metadata": {
    "heading_collapsed": true,
    "hidden": true
   },
   "source": [
    "#### (Pretend you don't see this fake data being generated)"
   ]
  },
  {
   "cell_type": "code",
   "execution_count": null,
   "metadata": {
    "collapsed": true,
    "hidden": true
   },
   "outputs": [],
   "source": [
    "np.random.seed(1)  # seed value of 1 better samples lower x range\n",
    "N = 30\n",
    "lo = 10.\n",
    "hi = 70.\n",
    "x = lo + (hi - lo) * np.random.random(N)\n",
    "x = np.sort(x)\n",
    "\n",
    "scale_fac = 8.7\n",
    "pow_index = 1.7\n",
    "y = scale_fac * x**(-pow_index)\n",
    "dy = 1. + 0.3*np.random.randn(len(y))\n",
    "y *= dy"
   ]
  },
  {
   "cell_type": "markdown",
   "metadata": {
    "heading_collapsed": true,
    "hidden": true
   },
   "source": [
    "#### We have some $(x,y)$ data points which we think have some relationship $y(x)$"
   ]
  },
  {
   "cell_type": "code",
   "execution_count": null,
   "metadata": {
    "hidden": true
   },
   "outputs": [],
   "source": [
    "f = figure(plot_height=300, plot_width=800, sizing_mode='scale_width')\n",
    "f.circle(x=x, y=y, size=5, color='blue')\n",
    "show(f)"
   ]
  },
  {
   "cell_type": "markdown",
   "metadata": {
    "heading_collapsed": true,
    "hidden": true
   },
   "source": [
    "#### A Simple Model\n",
    "We want a simple model for the relationship, something we can hopefully use to predict $y$ decently, given a new $x$.  A power law is a simple model which looks appropriate here:\n",
    "\n",
    "$$\n",
    "y = A \\cdot x^{-p}\n",
    "$$\n",
    "\n",
    "We want to find values of the scaling factor $A$ and the power law index $p$.  "
   ]
  },
  {
   "cell_type": "code",
   "execution_count": null,
   "metadata": {
    "hidden": true
   },
   "outputs": [],
   "source": [
    "# initial guesses for scale factor and power law index\n",
    "A0 = 0.1\n",
    "p0 = 0.0\n",
    "\n",
    "yfit = A0 * x**(-p0)\n",
    "min_err_found = np.Infinity\n",
    "best_A = A0\n",
    "best_p = p0\n",
    "\n",
    "f = figure(plot_height=300, plot_width=800, sizing_mode='scale_width')\n",
    "\n",
    "# add fit line and errors\n",
    "yline = f.line(x=x, y=yfit, color='red', line_alpha=0.75, line_width=1.5, legend='best fit')\n",
    "ysegs = f.segment(x0=x, x1=x, y0=y, y1=yfit, color='red', line_alpha=0.75, line_width=1.5)\n",
    "\n",
    "f.circle(x=x, y=y, size=5, color='blue')\n",
    "show(f, notebook_handle=True)\n",
    "\n",
    "def update(const, index):\n",
    "    yf = const * x**(-index)\n",
    "    yline.data_source.data['y'] = yf\n",
    "    ysegs.data_source.data['y1'] = yf\n",
    "\n",
    "    sum_sq_err = np.sum(np.abs(y-yf)**2)\n",
    "    global min_err_found\n",
    "    global best_A\n",
    "    global best_p\n",
    "    if sum_sq_err < min_err_found:\n",
    "        min_err_found = sum_sq_err\n",
    "        best_A = const\n",
    "        best_p = index\n",
    "    \n",
    "    title_text = 'Sum sq. err = '+str(np.around(sum_sq_err, decimals=5))\n",
    "    title_text += ', lowest yet = '+str(np.around(min_err_found, decimals=5))\n",
    "    title_text += ' for A = '+str(best_A)+', p = '+str(best_p)\n",
    "    \n",
    "    f.title.text = title_text\n",
    "    f.title.align = \"left\"\n",
    "    push_notebook()\n",
    "\n",
    "\n",
    "const = widgets.FloatSlider(\n",
    "            value=A0,\n",
    "            min=0.1,\n",
    "            max=20.,\n",
    "            step=0.1,\n",
    "            description='A:',\n",
    "            disabled=False,\n",
    "            continuous_update=False,\n",
    "            orientation='horizontal',\n",
    "            readout=True,\n",
    "            readout_format='.1f',\n",
    "        )\n",
    "\n",
    "index = widgets.FloatSlider(\n",
    "            value=p0,\n",
    "            min=-1.,\n",
    "            max=3.,\n",
    "            step=0.1,\n",
    "            description='p:',\n",
    "            disabled=False,\n",
    "            continuous_update=False,\n",
    "            orientation='horizontal',\n",
    "            readout=True,\n",
    "            readout_format='.1f',\n",
    "        )\n",
    "\n",
    "interact(update, const=const, index=index)"
   ]
  },
  {
   "cell_type": "code",
   "execution_count": null,
   "metadata": {
    "collapsed": true,
    "hidden": true
   },
   "outputs": [],
   "source": []
  }
 ],
 "metadata": {
  "kernelspec": {
   "display_name": "Python [default]",
   "language": "python",
   "name": "python3"
  },
  "language_info": {
   "codemirror_mode": {
    "name": "ipython",
    "version": 3
   },
   "file_extension": ".py",
   "mimetype": "text/x-python",
   "name": "python",
   "nbconvert_exporter": "python",
   "pygments_lexer": "ipython3",
   "version": "3.5.3"
  }
 },
 "nbformat": 4,
 "nbformat_minor": 2
}
